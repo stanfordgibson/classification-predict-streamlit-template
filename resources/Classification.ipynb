{
 "cells": [
  {
   "cell_type": "markdown",
   "id": "c3604672",
   "metadata": {},
   "source": [
    "# TEAM NAME: Classification Predict\n",
    "## Introduction\n",
    "### Context\n",
    "Many companies are built around lessening one’s environmental impact or carbon footprint. They offer products and services that are environmentally friendly and sustainable, in line with their values and ideals. They would like to determine how people perceive climate change and whether or not they believe it is a real threat. This would add to their market research efforts in gauging how their product/service may be received.\n",
    "\n",
    "### The challenge\n",
    "\n",
    "With this context, EDSA is challenging you during the Classification Sprint with the task of creating a Machine Learning model that is able to classify whether or not a person believes in climate change, based on their novel tweet data.\n",
    "\n",
    "Providing an accurate and robust solution to this task gives companies access to a broad base of consumer sentiment, spanning multiple demographic and geographic categories - thus increasing their insights and informing future marketing strategies."
   ]
  },
  {
   "cell_type": "markdown",
   "id": "332d23bd",
   "metadata": {},
   "source": [
    "### Hypothesis\n",
    "* Provide an interpretation of the target variable\n",
    "* List out the features on which our target variable might depend\n",
    "* Give a view about the problem based on domain knowledge"
   ]
  },
  {
   "cell_type": "markdown",
   "id": "6229b29e",
   "metadata": {},
   "source": [
    "### Data and Library Imports\n",
    "Now we will import the libraries required to perform:\n",
    "* language manipulation\n",
    "* data import, manipulation and visualisation"
   ]
  },
  {
   "cell_type": "code",
   "execution_count": 11,
   "id": "9207d290",
   "metadata": {},
   "outputs": [],
   "source": [
    "# Library imports\n",
    "\n",
    "# running experiments\n",
    "from comet_ml import Experiment\n",
    "\n",
    "# language manipulation\n",
    "import nltk # toolkit for language processing\n",
    "from nltk.corpus import stopwords # redundant words\n",
    "\n",
    "# Data manipulation and visualisation\n",
    "import numpy as np # mathematical processing\n",
    "import pandas as pd # data manipulation\n",
    "import seaborn as sns # data visualisation\n",
    "import matplotlib.pyplot as plt  # data visualisation\n",
    "%matplotlib inline\n",
    "\n",
    "# Text manipulation\n",
    "import re # regular expression for text extraction\n",
    "import string # for punctuation removal\n",
    "\n",
    "# set plot style\n",
    "sns.set()\n"
   ]
  },
  {
   "cell_type": "markdown",
   "id": "5ad8dd08",
   "metadata": {},
   "source": [
    "Next we will import the `test` and `train` data provided. Thereafter we will inspect the first 5 rows of the train data to get an understanding of the data. "
   ]
  },
  {
   "cell_type": "code",
   "execution_count": 2,
   "id": "b035ab88",
   "metadata": {},
   "outputs": [],
   "source": [
    "# Data importation\n",
    "train = pd.read_csv('train.csv')\n",
    "test = pd.read_csv('test.csv')"
   ]
  },
  {
   "cell_type": "code",
   "execution_count": 3,
   "id": "e834ceff",
   "metadata": {},
   "outputs": [
    {
     "data": {
      "text/html": [
       "<div>\n",
       "<style scoped>\n",
       "    .dataframe tbody tr th:only-of-type {\n",
       "        vertical-align: middle;\n",
       "    }\n",
       "\n",
       "    .dataframe tbody tr th {\n",
       "        vertical-align: top;\n",
       "    }\n",
       "\n",
       "    .dataframe thead th {\n",
       "        text-align: right;\n",
       "    }\n",
       "</style>\n",
       "<table border=\"1\" class=\"dataframe\">\n",
       "  <thead>\n",
       "    <tr style=\"text-align: right;\">\n",
       "      <th></th>\n",
       "      <th>sentiment</th>\n",
       "      <th>message</th>\n",
       "      <th>tweetid</th>\n",
       "    </tr>\n",
       "  </thead>\n",
       "  <tbody>\n",
       "    <tr>\n",
       "      <th>0</th>\n",
       "      <td>1</td>\n",
       "      <td>PolySciMajor EPA chief doesn't think carbon di...</td>\n",
       "      <td>625221</td>\n",
       "    </tr>\n",
       "    <tr>\n",
       "      <th>1</th>\n",
       "      <td>1</td>\n",
       "      <td>It's not like we lack evidence of anthropogeni...</td>\n",
       "      <td>126103</td>\n",
       "    </tr>\n",
       "    <tr>\n",
       "      <th>2</th>\n",
       "      <td>2</td>\n",
       "      <td>RT @RawStory: Researchers say we have three ye...</td>\n",
       "      <td>698562</td>\n",
       "    </tr>\n",
       "    <tr>\n",
       "      <th>3</th>\n",
       "      <td>1</td>\n",
       "      <td>#TodayinMaker# WIRED : 2016 was a pivotal year...</td>\n",
       "      <td>573736</td>\n",
       "    </tr>\n",
       "    <tr>\n",
       "      <th>4</th>\n",
       "      <td>1</td>\n",
       "      <td>RT @SoyNovioDeTodas: It's 2016, and a racist, ...</td>\n",
       "      <td>466954</td>\n",
       "    </tr>\n",
       "  </tbody>\n",
       "</table>\n",
       "</div>"
      ],
      "text/plain": [
       "   sentiment                                            message  tweetid\n",
       "0          1  PolySciMajor EPA chief doesn't think carbon di...   625221\n",
       "1          1  It's not like we lack evidence of anthropogeni...   126103\n",
       "2          2  RT @RawStory: Researchers say we have three ye...   698562\n",
       "3          1  #TodayinMaker# WIRED : 2016 was a pivotal year...   573736\n",
       "4          1  RT @SoyNovioDeTodas: It's 2016, and a racist, ...   466954"
      ]
     },
     "execution_count": 3,
     "metadata": {},
     "output_type": "execute_result"
    }
   ],
   "source": [
    "# first 5 rows of train data\n",
    "train.head()"
   ]
  },
  {
   "cell_type": "code",
   "execution_count": 4,
   "id": "5330d8e0",
   "metadata": {},
   "outputs": [
    {
     "data": {
      "text/html": [
       "<div>\n",
       "<style scoped>\n",
       "    .dataframe tbody tr th:only-of-type {\n",
       "        vertical-align: middle;\n",
       "    }\n",
       "\n",
       "    .dataframe tbody tr th {\n",
       "        vertical-align: top;\n",
       "    }\n",
       "\n",
       "    .dataframe thead th {\n",
       "        text-align: right;\n",
       "    }\n",
       "</style>\n",
       "<table border=\"1\" class=\"dataframe\">\n",
       "  <thead>\n",
       "    <tr style=\"text-align: right;\">\n",
       "      <th></th>\n",
       "      <th>message</th>\n",
       "      <th>tweetid</th>\n",
       "    </tr>\n",
       "  </thead>\n",
       "  <tbody>\n",
       "    <tr>\n",
       "      <th>0</th>\n",
       "      <td>Europe will now be looking to China to make su...</td>\n",
       "      <td>169760</td>\n",
       "    </tr>\n",
       "    <tr>\n",
       "      <th>1</th>\n",
       "      <td>Combine this with the polling of staffers re c...</td>\n",
       "      <td>35326</td>\n",
       "    </tr>\n",
       "    <tr>\n",
       "      <th>2</th>\n",
       "      <td>The scary, unimpeachable evidence that climate...</td>\n",
       "      <td>224985</td>\n",
       "    </tr>\n",
       "    <tr>\n",
       "      <th>3</th>\n",
       "      <td>@Karoli @morgfair @OsborneInk @dailykos \\nPuti...</td>\n",
       "      <td>476263</td>\n",
       "    </tr>\n",
       "    <tr>\n",
       "      <th>4</th>\n",
       "      <td>RT @FakeWillMoore: 'Female orgasms cause globa...</td>\n",
       "      <td>872928</td>\n",
       "    </tr>\n",
       "  </tbody>\n",
       "</table>\n",
       "</div>"
      ],
      "text/plain": [
       "                                             message  tweetid\n",
       "0  Europe will now be looking to China to make su...   169760\n",
       "1  Combine this with the polling of staffers re c...    35326\n",
       "2  The scary, unimpeachable evidence that climate...   224985\n",
       "3  @Karoli @morgfair @OsborneInk @dailykos \\nPuti...   476263\n",
       "4  RT @FakeWillMoore: 'Female orgasms cause globa...   872928"
      ]
     },
     "execution_count": 4,
     "metadata": {},
     "output_type": "execute_result"
    }
   ],
   "source": [
    "# first 5 rows of test data\n",
    "test.head()"
   ]
  },
  {
   "cell_type": "markdown",
   "id": "0db3ace2",
   "metadata": {},
   "source": [
    "#### Data Description\n",
    "The collection of this data was funded by a Canada Foundation for Innovation JELF Grant to Chris Bauch, University of Waterloo. The dataset aggregates tweets pertaining to climate change collected between Apr 27, 2015 and Feb 21, 2018. In total, 43943 tweets were collected. Each tweet is labelled as one of the following classes:\n",
    "\n",
    "Class Description\n",
    "* 2 News: the tweet links to factual news about climate change\n",
    "* 1 Pro: the tweet supports the belief of man-made climate change\n",
    "* 0 Neutral: the tweet neither supports nor refutes the belief of man-made climate change\n",
    "* -1 Anti: the tweet does not believe in man-made climate change\n",
    "\n",
    "Variable definitions\n",
    "- sentiment: Sentiment of tweet\n",
    "- message: Tweet body\n",
    "- tweetid: Twitter unique id\n",
    "\n",
    "Let's confirm that the sentiment values conform to the description above and next obtain a view of the data samples for each sentiment."
   ]
  },
  {
   "cell_type": "code",
   "execution_count": 5,
   "id": "d40ede91",
   "metadata": {},
   "outputs": [
    {
     "data": {
      "text/plain": [
       "[1, 2, 0, -1]"
      ]
     },
     "execution_count": 5,
     "metadata": {},
     "output_type": "execute_result"
    }
   ],
   "source": [
    "# identify the sentiment values\n",
    "list(train.sentiment.unique())"
   ]
  },
  {
   "cell_type": "code",
   "execution_count": 6,
   "id": "a051e901",
   "metadata": {},
   "outputs": [
    {
     "data": {
      "image/png": "[encoded data removed]",
      "text/plain": [
       "<Figure size 432x288 with 1 Axes>"
      ]
     },
     "metadata": {},
     "output_type": "display_data"
    }
   ],
   "source": [
    "train['sentiment'].value_counts().plot(kind='bar')\n",
    "plt.show()"
   ]
  },
  {
   "cell_type": "markdown",
   "id": "37c14445",
   "metadata": {},
   "source": [
    "From the bar graph above we discover that the majority of tweets are classified as pro the belief that climate change is man-made, followed by factual news, then neutral content and lastly tweets that show the believe that climate change is not man-made."
   ]
  },
  {
   "cell_type": "markdown",
   "id": "b669fded",
   "metadata": {},
   "source": [
    "## Text Cleaning\n",
    "Next we clean the message text to ensure that the data is in a usable format. First let's take a look at a message to see what kind of content we can expect to find. "
   ]
  },
  {
   "cell_type": "code",
   "execution_count": 7,
   "id": "46660cdd",
   "metadata": {},
   "outputs": [
    {
     "data": {
      "text/plain": [
       "\"PolySciMajor EPA chief doesn't think carbon dioxide is main cause of global warming and.. wait, what!? https://t.co/yeLvcEFXkC via @mashable\""
      ]
     },
     "execution_count": 7,
     "metadata": {},
     "output_type": "execute_result"
    }
   ],
   "source": [
    "# Select the first tweet\n",
    "train['message'].iloc[0]"
   ]
  },
  {
   "cell_type": "markdown",
   "id": "2192cc81",
   "metadata": {},
   "source": [
    "From the message above we observe that messages may contain web-urls, punctuation, upper and lower case characters."
   ]
  },
  {
   "cell_type": "markdown",
   "id": "36f3a0de",
   "metadata": {},
   "source": [
    "### Removing Noise\n",
    "Next we will remove unneccesary information, as seen above. These include web-urls, punctuation and stop-words. We will also convert the text to lower-case.\n",
    "\n",
    "#### URL conversion\n",
    "\n",
    "First we will replace website URLs with the text `url-web`"
   ]
  },
  {
   "cell_type": "code",
   "execution_count": 9,
   "id": "6257551c",
   "metadata": {},
   "outputs": [],
   "source": [
    "# Pattern to identify URLs\n",
    "pattern_url = r'http[s]?://(?:[A-Za-z]|[0-9]|[$-_@.&+]|[!*\\(\\),]|(?:%[0-9A-Fa-f][0-9A-Fa-f]))+'\n",
    "# Replacement text for URLs\n",
    "subs_url = r'url-web'\n",
    "# Replacement\n",
    "train['message'] = train['message'].replace(to_replace = pattern_url, value = subs_url, regex = True)"
   ]
  },
  {
   "cell_type": "markdown",
   "id": "d667a187",
   "metadata": {},
   "source": [
    "#### Punctuation removal\n",
    "Next we will ensure text uniformity by converting all text to lower case and then removing punctuation."
   ]
  },
  {
   "cell_type": "code",
   "execution_count": 13,
   "id": "2eb18a04",
   "metadata": {},
   "outputs": [
    {
     "name": "stdout",
     "output_type": "stream",
     "text": [
      "Punctuation to be removed: !\"#$%&'()*+,-./:;<=>?@[\\]^_`{|}~\n"
     ]
    }
   ],
   "source": [
    "# Message text to lower case\n",
    "train['message'] = train['message'].str.lower()\n",
    "\n",
    "# Removing punctuation\n",
    "print('Punctuation to be removed:', string.punctuation)"
   ]
  },
  {
   "cell_type": "code",
   "execution_count": 15,
   "id": "60dcd530",
   "metadata": {},
   "outputs": [],
   "source": [
    "# Function to remove punctuation\n",
    "def remove_punctuation(message):\n",
    "    \"\"\"Removes punctuation from tweets\"\"\"\n",
    "    return ''.join([l for l in message if l not in string.punctuation])"
   ]
  },
  {
   "cell_type": "code",
   "execution_count": 16,
   "id": "f1b35601",
   "metadata": {},
   "outputs": [],
   "source": [
    "# Apply the remove_punctuation function\n",
    "train['message'] = train['message'].apply(remove_punctuation)"
   ]
  },
  {
   "cell_type": "markdown",
   "id": "cf12caa7",
   "metadata": {},
   "source": [
    "Let's take another look at the first message to see the effect of the text clean up."
   ]
  },
  {
   "cell_type": "code",
   "execution_count": 18,
   "id": "2028ddf3",
   "metadata": {},
   "outputs": [
    {
     "data": {
      "text/plain": [
       "'polyscimajor epa chief doesnt think carbon dioxide is main cause of global warming and wait what urlweb via mashable'"
      ]
     },
     "execution_count": 18,
     "metadata": {},
     "output_type": "execute_result"
    }
   ],
   "source": [
    "# Select the first tweet\n",
    "train['message'].iloc[0]"
   ]
  },
  {
   "cell_type": "markdown",
   "id": "416ed35e",
   "metadata": {},
   "source": [
    "From the message above it's evident that all punctuation and unneccesary text has been removed. Next we will proceed with Feature Engineering."
   ]
  },
  {
   "cell_type": "markdown",
   "id": "d76c1a21",
   "metadata": {},
   "source": [
    "### Feature Engineering"
   ]
  },
  {
   "cell_type": "code",
   "execution_count": null,
   "id": "3a51a95e",
   "metadata": {},
   "outputs": [],
   "source": []
  },
  {
   "cell_type": "markdown",
   "id": "77725a07",
   "metadata": {},
   "source": [
    "### Exploratory Data Analysis\n"
   ]
  },
  {
   "cell_type": "code",
   "execution_count": null,
   "id": "acd411cc",
   "metadata": {},
   "outputs": [],
   "source": []
  },
  {
   "cell_type": "markdown",
   "id": "bbfa695a",
   "metadata": {},
   "source": [
    "##### Hypothesis validation"
   ]
  },
  {
   "cell_type": "code",
   "execution_count": null,
   "id": "f0175667",
   "metadata": {},
   "outputs": [],
   "source": []
  },
  {
   "cell_type": "markdown",
   "id": "e5009741",
   "metadata": {},
   "source": [
    "### Model building"
   ]
  },
  {
   "cell_type": "code",
   "execution_count": null,
   "id": "8647f224",
   "metadata": {},
   "outputs": [],
   "source": []
  },
  {
   "cell_type": "markdown",
   "id": "2d7849ec",
   "metadata": {},
   "source": [
    "### Model testing"
   ]
  },
  {
   "cell_type": "code",
   "execution_count": null,
   "id": "0082a361",
   "metadata": {},
   "outputs": [],
   "source": []
  },
  {
   "cell_type": "markdown",
   "id": "e35c8c8f",
   "metadata": {},
   "source": [
    "### Model evaluation"
   ]
  },
  {
   "cell_type": "code",
   "execution_count": null,
   "id": "cd6fad00",
   "metadata": {},
   "outputs": [],
   "source": []
  },
  {
   "cell_type": "code",
   "execution_count": null,
   "id": "1dba0996",
   "metadata": {},
   "outputs": [],
   "source": [
    "# Create an experiment with your api key\n",
    "experiment = Experiment(\n",
    "    api_key=\"uSjPrOwXQdE1GLSEQuhuEJ1QQ\",\n",
    "    project_name=\"climate-change-sentiment\",\n",
    "    workspace=\"stanfordgibson\",\n",
    ")"
   ]
  }
 ],
 "metadata": {
  "kernelspec": {
   "display_name": "Python 3",
   "language": "python",
   "name": "python3"
  },
  "language_info": {
   "codemirror_mode": {
    "name": "ipython",
    "version": 3
   },
   "file_extension": ".py",
   "mimetype": "text/x-python",
   "name": "python",
   "nbconvert_exporter": "python",
   "pygments_lexer": "ipython3",
   "version": "3.8.8"
  }
 },
 "nbformat": 4,
 "nbformat_minor": 5
}
